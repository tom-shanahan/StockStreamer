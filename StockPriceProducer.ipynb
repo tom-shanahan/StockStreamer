{
 "cells": [
  {
   "cell_type": "code",
   "execution_count": 4,
   "metadata": {},
   "outputs": [
    {
     "name": "stderr",
     "output_type": "stream",
     "text": [
      "--- request header ---\n",
      "GET /?token=cjjvfbpr01qorp966et0cjjvfbpr01qorp966etg HTTP/1.1\n",
      "Upgrade: websocket\n",
      "Host: ws.finnhub.io\n",
      "Origin: https://ws.finnhub.io\n",
      "Sec-WebSocket-Key: ots+zkQykpZbOG9bpLmbLQ==\n",
      "Sec-WebSocket-Version: 13\n",
      "Connection: Upgrade\n",
      "\n",
      "\n",
      "-----------------------\n",
      "--- response header ---\n",
      "HTTP/1.1 101 Switching Protocols\n",
      "Date: Sat, 26 Aug 2023 03:59:12 GMT\n",
      "Connection: upgrade\n",
      "Upgrade: websocket\n",
      "Sec-WebSocket-Accept: cA1krXhaER4MRV1sLaTjOD6HF/c=\n",
      "CF-Cache-Status: DYNAMIC\n",
      "Report-To: {\"endpoints\":[{\"url\":\"https:\\/\\/a.nel.cloudflare.com\\/report\\/v3?s=gYAZKKvwDE9l9Z2WLwFVVtSF3%2FSP9O4praifjh31xk4mcZPGXvqF%2FDTQwNGOX%2Fs%2BtM1vELMJjbuI41iXeU2gy43a60qfS4t03MpVNxImi5IbAl9OTmkO7N%2F5gZ4eGwlC\"}],\"group\":\"cf-nel\",\"max_age\":604800}\n",
      "NEL: {\"success_fraction\":0,\"report_to\":\"cf-nel\",\"max_age\":604800}\n",
      "Server: cloudflare\n",
      "CF-RAY: 7fc929288fdc1746-SJC\n",
      "alt-svc: h3=\":443\"; ma=86400\n",
      "-----------------------\n",
      "Websocket connected\n",
      "++Sent raw: b'\\x81\\xa4\\xc4D\\x05\\x00\\xbffqy\\xb4!\\':\\xe67pb\\xb7\\'wi\\xa6!\\',\\xe67|m\\xa6+i\"\\xfefDM\\x9e\\n\\'}'\n",
      "++Sent decoded: fin=1 opcode=1 data=b'{\"type\":\"subscribe\",\"symbol\":\"AMZN\"}'\n",
      "++Sent raw: b'\\x81\\xa4\\xf9\\x8a\\x1e\\xc6\\x82\\xa8j\\xbf\\x89\\xef<\\xfc\\xdb\\xf9k\\xa4\\x8a\\xe9l\\xaf\\x9b\\xef<\\xea\\xdb\\xf9g\\xab\\x9b\\xe5r\\xe4\\xc3\\xa8Y\\x89\\xb6\\xcd<\\xbb'\n",
      "++Sent decoded: fin=1 opcode=1 data=b'{\"type\":\"subscribe\",\"symbol\":\"GOOG\"}'\n",
      "++Sent raw: b'\\x81\\xa4\\xc0\\xa8\\xe1\\xfc\\xbb\\x8a\\x95\\x85\\xb0\\xcd\\xc3\\xc6\\xe2\\xdb\\x94\\x9e\\xb3\\xcb\\x93\\x95\\xa2\\xcd\\xc3\\xd0\\xe2\\xdb\\x98\\x91\\xa2\\xc7\\x8d\\xde\\xfa\\x8a\\xb5\\xaf\\x8c\\xe9\\xc3\\x81'\n",
      "++Sent decoded: fin=1 opcode=1 data=b'{\"type\":\"subscribe\",\"symbol\":\"TSLA\"}'\n",
      "++Sent raw: b'\\x81\\xa4\\xa4\\x8f\\xc9\\x14\\xdf\\xad\\xbdm\\xd4\\xea\\xeb.\\x86\\xfc\\xbcv\\xd7\\xec\\xbb}\\xc6\\xea\\xeb8\\x86\\xfc\\xb0y\\xc6\\xe0\\xa56\\x9e\\xad\\x84G\\xe2\\xdb\\xebi'\n",
      "++Sent decoded: fin=1 opcode=1 data=b'{\"type\":\"subscribe\",\"symbol\":\"MSFT\"}'\n",
      "++Sent raw: b'\\x81\\xa4\\xabl\\x0e\\x81\\xd0Nz\\xf8\\xdb\\t,\\xbb\\x89\\x1f{\\xe3\\xd8\\x0f|\\xe8\\xc9\\t,\\xad\\x89\\x1fw\\xec\\xc9\\x03b\\xa3\\x91N@\\xd7\\xef-,\\xfc'\n",
      "++Sent decoded: fin=1 opcode=1 data=b'{\"type\":\"subscribe\",\"symbol\":\"NVDA\"}'\n",
      "++Sent raw: b'\\x81\\xa4\\xf3\\xe9\\x16\\x84\\x88\\xcbb\\xfd\\x83\\x8c4\\xbe\\xd1\\x9ac\\xe6\\x80\\x8ad\\xed\\x91\\x8c4\\xa8\\xd1\\x9ao\\xe9\\x91\\x86z\\xa6\\xc9\\xcbW\\xc5\\xa3\\xa54\\xf9'\n",
      "++Sent decoded: fin=1 opcode=1 data=b'{\"type\":\"subscribe\",\"symbol\":\"AAPL\"}'\n",
      "++Sent raw: b'\\x81\\xa4\\xb0\\x92\\xce\\x1e\\xcb\\xb0\\xbag\\xc0\\xf7\\xec$\\x92\\xe1\\xbb|\\xc3\\xf1\\xbcw\\xd2\\xf7\\xec2\\x92\\xe1\\xb7s\\xd2\\xfd\\xa2<\\x8a\\xb0\\x83[\\xe4\\xd3\\xecc'\n",
      "++Sent decoded: fin=1 opcode=1 data=b'{\"type\":\"subscribe\",\"symbol\":\"META\"}'\n",
      "++Sent raw: b'\\x81\\xaf\\xdc\\xee\\xc8\\xf6\\xa7\\xcc\\xbc\\x8f\\xac\\x8b\\xea\\xcc\\xfe\\x9d\\xbd\\x94\\xaf\\x8d\\xba\\x9f\\xbe\\x8b\\xea\\xda\\xfe\\x9d\\xb1\\x9b\\xbe\\x81\\xa4\\xd4\\xe6\\xcc\\x8a\\xbf\\x92\\xaf\\x86\\xb5\\x99\\xd4\\x8a\\xa2\\x9f\\xbb\\x9b\\xb2\\x88\\xcc\\xb5'\n",
      "++Sent decoded: fin=1 opcode=1 data=b'{\"type\":\"subscribe\",\"symbol\":\"BINANCE:BTCUSDT\"}'\n",
      "++Rcv raw: b'\\x81~\\x00\\xaf{\"data\":[{\"c\":null,\"p\":26087.16,\"s\":\"BINANCE:BTCUSDT\",\"t\":1693022353027,\"v\":0.095},{\"c\":null,\"p\":26087.15,\"s\":\"BINANCE:BTCUSDT\",\"t\":1693022353236,\"v\":0.00938}],\"type\":\"trade\"}'\n",
      "++Rcv decoded: fin=1 opcode=1 data=b'{\"data\":[{\"c\":null,\"p\":26087.16,\"s\":\"BINANCE:BTCUSDT\",\"t\":1693022353027,\"v\":0.095},{\"c\":null,\"p\":26087.15,\"s\":\"BINANCE:BTCUSDT\",\"t\":1693022353236,\"v\":0.00938}],\"type\":\"trade\"}'\n"
     ]
    },
    {
     "name": "stdout",
     "output_type": "stream",
     "text": [
      "1\n"
     ]
    },
    {
     "name": "stderr",
     "output_type": "stream",
     "text": [
      "++Rcv raw: b'\\x81e{\"data\":[{\"c\":null,\"p\":26087.15,\"s\":\"BINANCE:BTCUSDT\",\"t\":1693022354636,\"v\":0.02722}],\"type\":\"trade\"}'\n",
      "++Rcv decoded: fin=1 opcode=1 data=b'{\"data\":[{\"c\":null,\"p\":26087.15,\"s\":\"BINANCE:BTCUSDT\",\"t\":1693022354636,\"v\":0.02722}],\"type\":\"trade\"}'\n"
     ]
    },
    {
     "name": "stdout",
     "output_type": "stream",
     "text": [
      "2\n"
     ]
    },
    {
     "name": "stderr",
     "output_type": "stream",
     "text": [
      "++Rcv raw: b'\\x81e{\"data\":[{\"c\":null,\"p\":26087.15,\"s\":\"BINANCE:BTCUSDT\",\"t\":1693022361169,\"v\":0.00068}],\"type\":\"trade\"}'\n",
      "++Rcv decoded: fin=1 opcode=1 data=b'{\"data\":[{\"c\":null,\"p\":26087.15,\"s\":\"BINANCE:BTCUSDT\",\"t\":1693022361169,\"v\":0.00068}],\"type\":\"trade\"}'\n"
     ]
    },
    {
     "name": "stdout",
     "output_type": "stream",
     "text": [
      "3\n"
     ]
    },
    {
     "name": "stderr",
     "output_type": "stream",
     "text": [
      "++Rcv raw: b'\\x81~\\x00\\xb1{\"data\":[{\"c\":null,\"p\":26087.15,\"s\":\"BINANCE:BTCUSDT\",\"t\":1693022362036,\"v\":0.00217},{\"c\":null,\"p\":26087.15,\"s\":\"BINANCE:BTCUSDT\",\"t\":1693022362248,\"v\":0.09328}],\"type\":\"trade\"}'\n",
      "++Rcv decoded: fin=1 opcode=1 data=b'{\"data\":[{\"c\":null,\"p\":26087.15,\"s\":\"BINANCE:BTCUSDT\",\"t\":1693022362036,\"v\":0.00217},{\"c\":null,\"p\":26087.15,\"s\":\"BINANCE:BTCUSDT\",\"t\":1693022362248,\"v\":0.09328}],\"type\":\"trade\"}'\n"
     ]
    },
    {
     "name": "stdout",
     "output_type": "stream",
     "text": [
      "4\n"
     ]
    },
    {
     "name": "stderr",
     "output_type": "stream",
     "text": [
      "++Rcv raw: b'\\x81~\\x01I{\"data\":[{\"c\":null,\"p\":26087.16,\"s\":\"BINANCE:BTCUSDT\",\"t\":1693022365016,\"v\":0.02139},{\"c\":null,\"p\":26087.16,\"s\":\"BINANCE:BTCUSDT\",\"t\":1693022365085,\"v\":0.00765},{\"c\":null,\"p\":26087.15,\"s\":\"BINANCE:BTCUSDT\",\"t\":1693022365134,\"v\":0.00042},{\"c\":null,\"p\":26087.15,\"s\":\"BINANCE:BTCUSDT\",\"t\":1693022365445,\"v\":0.00891}],\"type\":\"trade\"}'\n",
      "++Rcv decoded: fin=1 opcode=1 data=b'{\"data\":[{\"c\":null,\"p\":26087.16,\"s\":\"BINANCE:BTCUSDT\",\"t\":1693022365016,\"v\":0.02139},{\"c\":null,\"p\":26087.16,\"s\":\"BINANCE:BTCUSDT\",\"t\":1693022365085,\"v\":0.00765},{\"c\":null,\"p\":26087.15,\"s\":\"BINANCE:BTCUSDT\",\"t\":1693022365134,\"v\":0.00042},{\"c\":null,\"p\":26087.15,\"s\":\"BINANCE:BTCUSDT\",\"t\":1693022365445,\"v\":0.00891}],\"type\":\"trade\"}'\n"
     ]
    },
    {
     "name": "stdout",
     "output_type": "stream",
     "text": [
      "5\n"
     ]
    },
    {
     "name": "stderr",
     "output_type": "stream",
     "text": [
      "++Rcv raw: b'\\x81~\\x00\\xb1{\"data\":[{\"c\":null,\"p\":26087.16,\"s\":\"BINANCE:BTCUSDT\",\"t\":1693022367433,\"v\":0.02295},{\"c\":null,\"p\":26087.16,\"s\":\"BINANCE:BTCUSDT\",\"t\":1693022367519,\"v\":0.00306}],\"type\":\"trade\"}'\n",
      "++Rcv decoded: fin=1 opcode=1 data=b'{\"data\":[{\"c\":null,\"p\":26087.16,\"s\":\"BINANCE:BTCUSDT\",\"t\":1693022367433,\"v\":0.02295},{\"c\":null,\"p\":26087.16,\"s\":\"BINANCE:BTCUSDT\",\"t\":1693022367519,\"v\":0.00306}],\"type\":\"trade\"}'\n",
      "++Sent raw: b'\\x88\\x82\\xf5\\x1dbY\\xf6\\xf5'\n",
      "++Sent decoded: fin=1 opcode=8 data=b'\\x03\\xe8'\n"
     ]
    },
    {
     "name": "stdout",
     "output_type": "stream",
     "text": [
      "6\n",
      "on_close args:\n"
     ]
    }
   ],
   "source": [
    "import websocket\n",
    "import json\n",
    "import pandas as pd\n",
    "\n",
    "class StockPriceProducer:\n",
    "\n",
    "    def __init__(self):\n",
    "        websocket.enableTrace(True)\n",
    "        self.output = pd.DataFrame()\n",
    "        self.message_cnt = 0\n",
    "        self.ws = websocket.WebSocketApp(\"wss://ws.finnhub.io?token=cjjvfbpr01qorp966et0cjjvfbpr01qorp966etg\",\n",
    "                                    on_message = self.on_message,\n",
    "                                    on_error = self.on_error,\n",
    "                                    on_close = self.on_close)\n",
    "        self.ws.on_open = self.on_open\n",
    "        self.ws.run_forever()        \n",
    "\n",
    "    def on_message(self, ws, message):\n",
    "        if json.loads(message)['type'] == \"trade\":\n",
    "            mes = pd.DataFrame(json.loads(message)['data']).rename(\n",
    "                columns={\"c\":\"Conditions\", \"p\":\"LastPrice\", \"s\":\"Symbol\", \"t\":\"Timestamp\", \"v\":\"Volume\"})\n",
    "            self.output = pd.concat([self.output, mes], ignore_index=True)\n",
    "\n",
    "        # arbitrary termination point for testing\n",
    "        self.message_cnt+=1\n",
    "        if self.message_cnt > 5:\n",
    "            ws.close()\n",
    "        \n",
    "        print(self.message_cnt)\n",
    "\n",
    "    def on_error(self, ws, error):\n",
    "        print(error)\n",
    "\n",
    "    def on_close(self, ws, close_status_code, close_msg):\n",
    "        print(\"on_close args:\")\n",
    "        if close_status_code or close_msg:\n",
    "            print(\"close status code: \" + str(close_status_code))\n",
    "            print(\"close message: \" + str(close_msg))\n",
    "        ws.close()\n",
    "\n",
    "    def on_open(self, ws):\n",
    "        self.ws.send('{\"type\":\"subscribe\",\"symbol\":\"AMZN\"}')\n",
    "        self.ws.send('{\"type\":\"subscribe\",\"symbol\":\"GOOG\"}')\n",
    "        self.ws.send('{\"type\":\"subscribe\",\"symbol\":\"TSLA\"}')\n",
    "        self.ws.send('{\"type\":\"subscribe\",\"symbol\":\"MSFT\"}')\n",
    "        self.ws.send('{\"type\":\"subscribe\",\"symbol\":\"NVDA\"}')\n",
    "        self.ws.send('{\"type\":\"subscribe\",\"symbol\":\"AAPL\"}')\n",
    "        self.ws.send('{\"type\":\"subscribe\",\"symbol\":\"META\"}')\n",
    "        self.ws.send('{\"type\":\"subscribe\",\"symbol\":\"BINANCE:BTCUSDT\"}')\n",
    "\n",
    "\n",
    "spp = StockPriceProducer()\n"
   ]
  },
  {
   "cell_type": "code",
   "execution_count": 7,
   "metadata": {},
   "outputs": [
    {
     "name": "stdout",
     "output_type": "stream",
     "text": [
      "|    | Conditions   |   LastPrice | Symbol          |     Timestamp |   Volume |\n",
      "|---:|:-------------|------------:|:----------------|--------------:|---------:|\n",
      "|  0 |              |     26087.2 | BINANCE:BTCUSDT | 1693022353027 |  0.095   |\n",
      "|  1 |              |     26087.2 | BINANCE:BTCUSDT | 1693022353236 |  0.00938 |\n",
      "|  2 |              |     26087.2 | BINANCE:BTCUSDT | 1693022354636 |  0.02722 |\n",
      "|  3 |              |     26087.2 | BINANCE:BTCUSDT | 1693022361169 |  0.00068 |\n",
      "|  4 |              |     26087.2 | BINANCE:BTCUSDT | 1693022362036 |  0.00217 |\n",
      "|  5 |              |     26087.2 | BINANCE:BTCUSDT | 1693022362248 |  0.09328 |\n",
      "|  6 |              |     26087.2 | BINANCE:BTCUSDT | 1693022365016 |  0.02139 |\n",
      "|  7 |              |     26087.2 | BINANCE:BTCUSDT | 1693022365085 |  0.00765 |\n",
      "|  8 |              |     26087.2 | BINANCE:BTCUSDT | 1693022365134 |  0.00042 |\n",
      "|  9 |              |     26087.2 | BINANCE:BTCUSDT | 1693022365445 |  0.00891 |\n",
      "| 10 |              |     26087.2 | BINANCE:BTCUSDT | 1693022367433 |  0.02295 |\n",
      "| 11 |              |     26087.2 | BINANCE:BTCUSDT | 1693022367519 |  0.00306 |\n"
     ]
    }
   ],
   "source": [
    "print(spp.output.to_markdown())\n"
   ]
  }
 ],
 "metadata": {
  "kernelspec": {
   "display_name": "Python 3",
   "language": "python",
   "name": "python3"
  },
  "language_info": {
   "codemirror_mode": {
    "name": "ipython",
    "version": 3
   },
   "file_extension": ".py",
   "mimetype": "text/x-python",
   "name": "python",
   "nbconvert_exporter": "python",
   "pygments_lexer": "ipython3",
   "version": "3.11.5"
  },
  "orig_nbformat": 4
 },
 "nbformat": 4,
 "nbformat_minor": 2
}
